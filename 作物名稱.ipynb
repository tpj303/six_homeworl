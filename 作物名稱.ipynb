{
  "nbformat": 4,
  "nbformat_minor": 0,
  "metadata": {
    "colab": {
      "private_outputs": true,
      "provenance": []
    },
    "kernelspec": {
      "name": "python3",
      "display_name": "Python 3"
    },
    "language_info": {
      "name": "python"
    }
  },
  "cells": [
    {
      "cell_type": "code",
      "source": [
        "%pip install axios"
      ],
      "metadata": {
        "id": "P0utCX9XB6rL"
      },
      "execution_count": null,
      "outputs": []
    },
    {
      "cell_type": "code",
      "source": [
        "import requests\n",
        "\n",
        "def fetchFarmTransData(top=None, skip=None, StartDate=None, EndDate=None, Market=None, CropCode=None, Crop=None, TcType=None):\n",
        "    \"\"\"\n",
        "    Fetches data from the FarmTransData API with advanced querying options.\n",
        "\n",
        "    Args:\n",
        "        top (int, optional): The number of records to return. Defaults to None.\n",
        "        skip (int, optional): The number of records to skip. Defaults to None.\n",
        "        StartDate (str, optional): The start date for filtering (e.g., '112.01.01'). Defaults to None.\n",
        "        EndDate (str, optional): The end date for filtering (e.g., '112.01.07'). Defaults to None.\n",
        "        Market (str, optional): The market for filtering (e.g., '台北二'). Defaults to None.\n",
        "        CropCode (str, optional): The crop code for filtering. Defaults to None.\n",
        "        Crop (str, optional): The crop name for filtering (e.g., '蔥'). Defaults to None.\n",
        "        TcType (str, optional): The transaction type for filtering. Defaults to None.\n",
        "\n",
        "    Returns:\n",
        "        list or None: A list of dictionaries containing the data if successful, None otherwise.\n",
        "    \"\"\"\n",
        "    baseUrl = 'https://data.moa.gov.tw/Service/OpenData/FromM/FarmTransData.aspx'\n",
        "    params = {}\n",
        "    if top is not None:\n",
        "        params['$top'] = top\n",
        "    if skip is not None:\n",
        "        params['$skip'] = skip\n",
        "    if StartDate is not None:\n",
        "        params['StartDate'] = StartDate\n",
        "    if EndDate is not None:\n",
        "        params['EndDate'] = EndDate\n",
        "    if Market is not None:\n",
        "        params['Market'] = Market\n",
        "    if CropCode is not None:\n",
        "        params['CropCode'] = CropCode\n",
        "    if Crop is not None:\n",
        "        params['Crop'] = Crop\n",
        "    if TcType is not None:\n",
        "        params['TcType'] = TcType\n",
        "\n",
        "    try:\n",
        "        response = requests.get(baseUrl, params=params)\n",
        "        response.raise_for_status()  # Raise an exception for bad status codes (4xx or 5xx)\n",
        "        print('Status:', response.status_code)\n",
        "        data = response.json()\n",
        "        print('Response Data (first 5 items):', data[:5] if isinstance(data, list) else data) # Print only first 5 items if data is a list\n",
        "        return data\n",
        "    except requests.exceptions.RequestException as e:\n",
        "        if e.response is not None:\n",
        "            print('Error Status:', e.response.status_code)\n",
        "            print('Error Response:', e.response.text)\n",
        "        else:\n",
        "            print('Request Error:', e.message)\n",
        "        return None\n",
        "\n",
        "# Example usage with parameters:\n",
        "print(\"\\nFetching data with parameters (top 10, skipping 5, specific date range and crop):\")\n",
        "data_with_params = fetchFarmTransData(\n",
        "    top=10,\n",
        "    skip=5,\n",
        "    StartDate='112.01.01',\n",
        "    EndDate='112.01.07',\n",
        "    Crop='蔥'\n",
        ")\n",
        "\n",
        "# Example usage: fetch latest data (no parameters)\n",
        "# print(\"Fetching latest data:\")\n",
        "# fetchFarmTransData()"
      ],
      "metadata": {
        "id": "rXbgXbVSB1zK"
      },
      "execution_count": null,
      "outputs": []
    },
    {
      "cell_type": "code",
      "metadata": {
        "id": "85c6eb7f"
      },
      "source": [
        "print(\"Fetching data for 114.09.09:\")\n",
        "data_1140909 = fetchFarmTransData(StartDate='114.09.09', EndDate='114.09.09')\n",
        "\n",
        "# You can now explore the data_1140909 variable\n",
        "# For example, to see the first 5 items if it's a list:\n",
        "# if isinstance(data_1140909, list):\n",
        "#     print(\"Data for 114.09.09 (first 5 items):\", data_1140909[:5])"
      ],
      "execution_count": null,
      "outputs": []
    }
  ]
}